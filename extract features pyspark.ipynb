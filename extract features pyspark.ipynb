{
 "cells": [
  {
   "cell_type": "code",
   "execution_count": 1,
   "id": "37878fd8-4920-4a7d-b699-b057c0c77738",
   "metadata": {},
   "outputs": [],
   "source": [
    "import pandas as pd\n",
    "import numpy as np\n",
    "from tqdm import tqdm\n",
    "from pyspark.sql import SparkSession\n",
    "from pyspark.sql.functions import stddev, percentile_approx, min, max, mean"
   ]
  },
  {
   "cell_type": "code",
   "execution_count": 2,
   "id": "f9dd1565-aed5-409d-8f5b-36423030fdbe",
   "metadata": {},
   "outputs": [
    {
     "name": "stderr",
     "output_type": "stream",
     "text": [
      "22/08/24 18:40:40 WARN Utils: Your hostname, intellerts-HP-Z8-G4-Workstation resolves to a loopback address: 127.0.1.1; using 192.168.1.101 instead (on interface enp9s0f2)\n",
      "22/08/24 18:40:40 WARN Utils: Set SPARK_LOCAL_IP if you need to bind to another address\n",
      "WARNING: An illegal reflective access operation has occurred\n",
      "WARNING: Illegal reflective access by org.apache.spark.unsafe.Platform (file:/home/intellerts/miniconda3/envs/pyspark/lib/python3.10/site-packages/pyspark/jars/spark-unsafe_2.12-3.1.2.jar) to constructor java.nio.DirectByteBuffer(long,int)\n",
      "WARNING: Please consider reporting this to the maintainers of org.apache.spark.unsafe.Platform\n",
      "WARNING: Use --illegal-access=warn to enable warnings of further illegal reflective access operations\n",
      "WARNING: All illegal access operations will be denied in a future release\n",
      "22/08/24 18:40:40 WARN NativeCodeLoader: Unable to load native-hadoop library for your platform... using builtin-java classes where applicable\n",
      "Using Spark's default log4j profile: org/apache/spark/log4j-defaults.properties\n",
      "Setting default log level to \"WARN\".\n",
      "To adjust logging level use sc.setLogLevel(newLevel). For SparkR, use setLogLevel(newLevel).\n"
     ]
    }
   ],
   "source": [
    "spark = SparkSession.builder\\\n",
    "    .master(\"local[*]\")\\\n",
    "    .config(\"spark.executor.memory\", \"8g\")\\\n",
    "    .config(\"spark.driver.memory\", \"64g\")\\\n",
    "    .getOrCreate()"
   ]
  },
  {
   "cell_type": "code",
   "execution_count": 3,
   "id": "cd8dc4ec-910c-41f0-b10d-a5ae8a106d9b",
   "metadata": {},
   "outputs": [],
   "source": [
    "df = spark.read.options(header=True).csv('data/train_data.csv')\n",
    "df = df.repartition(256, 'customer_ID')\n",
    "labels = spark.read.options(header=True).csv('data/train_labels.csv')\n",
    "value_cols = list(set(df.columns) - {'customer_ID', 'S_2', 'D_63', 'D_64'})"
   ]
  },
  {
   "cell_type": "code",
   "execution_count": 4,
   "id": "f6559928-25a9-4332-bf3c-fac658f6d6eb",
   "metadata": {},
   "outputs": [
    {
     "name": "stderr",
     "output_type": "stream",
     "text": [
      "                                                                                \r"
     ]
    }
   ],
   "source": [
    "na_stats = {col:df.filter(df[col].isNull()).count() for col in df.columns}\n",
    "na_stats = pd.DataFrame.from_records(list(na_stats.items()), columns=[\"Column\", \"NA count\"])"
   ]
  },
  {
   "cell_type": "code",
   "execution_count": 5,
   "id": "bcdde0df-2ccf-49a0-9131-092d1938e592",
   "metadata": {},
   "outputs": [],
   "source": [
    "aggs = [min(col).alias(f\"min_{col}\") for col in value_cols] + \\\n",
    "    [max(col).alias(f\"max_{col}\") for col in value_cols] + \\\n",
    "    [stddev(col).alias(f\"std_{col}\") for col in value_cols] + \\\n",
    "    [mean(col).alias(f\"mean_{col}\") for col in value_cols] + \\\n",
    "    [percentile_approx(col, 0.25).alias(f\"perc25_{col}\") for col in value_cols] + \\\n",
    "    [percentile_approx(col, 0.5).alias(f\"median_{col}\") for col in value_cols] + \\\n",
    "    [percentile_approx(col, 0.75).alias(f\"perc75_{col}\") for col in value_cols]"
   ]
  },
  {
   "cell_type": "code",
   "execution_count": 6,
   "id": "488ac60d-b619-4494-8478-8604be79b272",
   "metadata": {},
   "outputs": [
    {
     "name": "stderr",
     "output_type": "stream",
     "text": [
      "22/08/23 15:45:28 WARN package: Truncated the string representation of a plan since it was too large. This behavior can be adjusted by setting 'spark.sql.debug.maxToStringFields'.\n",
      "22/08/23 15:45:41 WARN DAGScheduler: Broadcasting large task binary with size 1220.7 KiB\n",
      "                                                                                \r"
     ]
    }
   ],
   "source": [
    "for col in tqdm(value_cols):\n",
    "    df = df.withColumn(col, df[col].cast('double'))\n",
    "grouped_df = df.groupBy('customer_ID')\n",
    "aggs = grouped_df.agg(*aggs)\n",
    "feats = aggs.join(labels, ['customer_ID'])\n",
    "feats.write.parquet('features-spark.parquet')"
   ]
  },
  {
   "cell_type": "code",
   "execution_count": 7,
   "id": "27ee1d8d-baf7-4b31-9ab6-43a8f45547b9",
   "metadata": {},
   "outputs": [
    {
     "name": "stderr",
     "output_type": "stream",
     "text": [
      "100%|██████████████████████████████████████████████████████████████████████████████████████████████████████████████████████████████████████████████████████████████████████████| 186/186 [00:04<00:00, 44.10it/s]\n",
      "22/08/24 18:51:56 WARN DAGScheduler: Broadcasting large task binary with size 1206.1 KiB\n",
      "                                                                                \r"
     ]
    }
   ],
   "source": [
    "# Process test data\n",
    "df = spark.read.options(header=True).csv('data/test_data.csv')\n",
    "df = df.repartition(512, 'customer_ID')\n",
    "for col in tqdm(value_cols):\n",
    "    df = df.withColumn(col, df[col].cast('double'))\n",
    "grouped_df = df.groupBy('customer_ID')\n",
    "feats = grouped_df.agg(*aggs)\n",
    "feats.write.parquet('features-spark-test.parquet')"
   ]
  }
 ],
 "metadata": {
  "kernelspec": {
   "display_name": "Python 3 (ipykernel)",
   "language": "python",
   "name": "python3"
  },
  "language_info": {
   "codemirror_mode": {
    "name": "ipython",
    "version": 3
   },
   "file_extension": ".py",
   "mimetype": "text/x-python",
   "name": "python",
   "nbconvert_exporter": "python",
   "pygments_lexer": "ipython3",
   "version": "3.10.6"
  }
 },
 "nbformat": 4,
 "nbformat_minor": 5
}
