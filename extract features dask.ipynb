{
 "cells": [
  {
   "cell_type": "code",
   "execution_count": 1,
   "id": "41e9bbee-505b-45fc-9760-91e8d7ffe160",
   "metadata": {},
   "outputs": [],
   "source": [
    "import warnings\n",
    "import numpy as np\n",
    "import dask\n",
    "import dask.dataframe as dd\n",
    "from dask.diagnostics import ProgressBar\n",
    "\n",
    "dask.config.set(scheduler='threads') \n",
    "warnings.filterwarnings(\"ignore\", category=FutureWarning)\n",
    "ProgressBar().register()"
   ]
  },
  {
   "cell_type": "code",
   "execution_count": 2,
   "id": "fd28991d-33c8-4065-9b0f-4951f5abd0f3",
   "metadata": {},
   "outputs": [
    {
     "name": "stdout",
     "output_type": "stream",
     "text": [
      "[########################################] | 100% Completed |  3min 14.1s\n",
      "[########################################] | 100% Completed |  1.1s\n"
     ]
    }
   ],
   "source": [
    "df = dd.read_csv('data/train_data.csv')\n",
    "df = df.set_index('customer_ID').repartition(npartitions=256)\n",
    "labels = dd.read_csv('data/train_labels.csv').set_index('customer_ID')\n",
    "df.dtypes.to_csv('dtypes.csv')"
   ]
  },
  {
   "cell_type": "code",
   "execution_count": 3,
   "id": "1629848b-a3f0-45a4-a830-6e32493ebf98",
   "metadata": {},
   "outputs": [
    {
     "name": "stdout",
     "output_type": "stream",
     "text": [
      "[########################################] | 100% Completed |  2min  4.0s\n"
     ]
    }
   ],
   "source": [
    "na_stats = df.isna().sum().compute()\n",
    "na_stats.to_csv(\"na_stats.csv\")"
   ]
  },
  {
   "cell_type": "code",
   "execution_count": 3,
   "id": "f50e5290-8854-4557-ad3d-dfd44457600f",
   "metadata": {},
   "outputs": [],
   "source": [
    "value_cols = list(set(df.columns.tolist()) - {'customer_ID', 'S_2', 'D_63', 'D_64'})\n",
    "grouped_df = df.groupby('customer_ID')[value_cols]\n",
    "means = grouped_df.mean().rename(columns=lambda x: x+ \"_mean\")\n",
    "stddev = grouped_df.std().rename(columns=lambda x: x+ \"_std\")\n",
    "minv = grouped_df.min().rename(columns=lambda x: x+ \"_min\")\n",
    "maxv = grouped_df.max().rename(columns=lambda x: x+ \"_max\")\n",
    "feats = means.join(stddev).join(minv).join(maxv).join(labels)"
   ]
  },
  {
   "cell_type": "code",
   "execution_count": 5,
   "id": "398d8bfd-9880-49bd-9d5a-10b2c8a3a32a",
   "metadata": {},
   "outputs": [],
   "source": [
    "#import functools\n",
    "#import pandas as pd\n",
    "#iqr25_fun = functools.partial(np.nanquantile, q=0.25, axis=0)\n",
    "#iqr25 = df[value_cols].map_partitions(iqr25_fun, meta=pd.DataFrame)"
   ]
  },
  {
   "cell_type": "code",
   "execution_count": 5,
   "id": "e939eabf-fbc9-48c1-a152-9f563981aabf",
   "metadata": {},
   "outputs": [
    {
     "name": "stdout",
     "output_type": "stream",
     "text": [
      "[########################################] | 100% Completed |  6min 29.1s\n"
     ]
    },
    {
     "data": {
      "text/plain": [
       "(None,)"
      ]
     },
     "execution_count": 5,
     "metadata": {},
     "output_type": "execute_result"
    }
   ],
   "source": [
    "feats.to_parquet('features-dask.parquet', compression='gzip')"
   ]
  },
  {
   "cell_type": "code",
   "execution_count": null,
   "id": "b61db6f2-ff33-4b58-8871-72e8dcb19005",
   "metadata": {},
   "outputs": [],
   "source": [
    "# Process test data\n",
    "df = dd.read_csv('data/test_data.csv')\n",
    "df = df.set_index('customer_ID').repartition(npartitions=256)"
   ]
  },
  {
   "cell_type": "code",
   "execution_count": null,
   "id": "31877ece-b78d-4233-83ab-ad77d80abcdf",
   "metadata": {},
   "outputs": [],
   "source": [
    "value_cols = list(set(df.columns.tolist()) - {'customer_ID', 'S_2', 'D_63', 'D_64'})\n",
    "grouped_df = df.groupby('customer_ID')[value_cols]\n",
    "means = grouped_df.mean().rename(columns=lambda x: x+ \"_mean\")\n",
    "stddev = grouped_df.std().rename(columns=lambda x: x+ \"_std\")\n",
    "minv = grouped_df.min().rename(columns=lambda x: x+ \"_min\")\n",
    "maxv = grouped_df.max().rename(columns=lambda x: x+ \"_max\")\n",
    "feats = means.join(stddev).join(minv).join(maxv)"
   ]
  },
  {
   "cell_type": "code",
   "execution_count": null,
   "id": "71590a37-ac2d-44e8-822f-4548be3defca",
   "metadata": {},
   "outputs": [],
   "source": [
    "feats.to_parquet('features-dask-test.parquet', compression='gzip')"
   ]
  }
 ],
 "metadata": {
  "kernelspec": {
   "display_name": "Python 3 (ipykernel)",
   "language": "python",
   "name": "python3"
  },
  "language_info": {
   "codemirror_mode": {
    "name": "ipython",
    "version": 3
   },
   "file_extension": ".py",
   "mimetype": "text/x-python",
   "name": "python",
   "nbconvert_exporter": "python",
   "pygments_lexer": "ipython3",
   "version": "3.10.6"
  }
 },
 "nbformat": 4,
 "nbformat_minor": 5
}
