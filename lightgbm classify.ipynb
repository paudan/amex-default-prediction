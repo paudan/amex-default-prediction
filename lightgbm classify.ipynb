{
 "cells": [
  {
   "cell_type": "code",
   "execution_count": 20,
   "id": "b797bd52-691e-4b2f-a24c-2a7cd0bcfe6e",
   "metadata": {},
   "outputs": [],
   "source": [
    "import pandas as pd\n",
    "import numpy as np\n",
    "from sklearn.model_selection import train_test_split\n",
    "from sklearn.metrics import accuracy_score, roc_auc_score\n",
    "import lightgbm as lgb\n",
    "from lightgbm import LGBMClassifier, early_stopping, log_evaluation"
   ]
  },
  {
   "cell_type": "code",
   "execution_count": 3,
   "id": "5cdbf14c-246f-491d-919a-62996f29ff29",
   "metadata": {},
   "outputs": [
    {
     "data": {
      "text/plain": [
       "(458913, 745)"
      ]
     },
     "execution_count": 3,
     "metadata": {},
     "output_type": "execute_result"
    }
   ],
   "source": [
    "df = pd.read_parquet('features-dask.parquet')\n",
    "df.shape"
   ]
  },
  {
   "cell_type": "code",
   "execution_count": 4,
   "id": "35237d23-42bb-43a6-9b57-8602b10572a2",
   "metadata": {},
   "outputs": [
    {
     "data": {
      "text/plain": [
       "(458913, 620)"
      ]
     },
     "execution_count": 4,
     "metadata": {},
     "output_type": "execute_result"
    }
   ],
   "source": [
    "df = df.dropna(axis=1, thresh=int(0.80 * df.shape[0]))\n",
    "df.shape"
   ]
  },
  {
   "cell_type": "code",
   "execution_count": 5,
   "id": "44dd90a4-a087-4c6e-99e9-616fb2a9c254",
   "metadata": {},
   "outputs": [
    {
     "name": "stdout",
     "output_type": "stream",
     "text": [
      "X_train Training Data Size : 367130\n",
      "X_test Testing Data Size   : 91783\n"
     ]
    }
   ],
   "source": [
    "y = df['target']\n",
    "X = df.drop(['target'],axis=1)\n",
    "X_train, X_test, y_train, y_test = train_test_split(X, y, test_size=0.2, random_state=42,stratify=y)\n",
    "\n",
    "print(\"X_train Training Data Size :\",X_train.shape[0])\n",
    "print(\"X_test Testing Data Size   :\",X_test.shape[0])"
   ]
  },
  {
   "cell_type": "code",
   "execution_count": 24,
   "id": "5f603d80-d42f-4f76-8f4c-016973841921",
   "metadata": {},
   "outputs": [],
   "source": [
    "# https://www.kaggle.com/code/inversion/amex-competition-metric-python\n",
    "# https://www.kaggle.com/code/jpison/custom-lgbm-obj-weighted-logloss-function\n",
    "\n",
    "MULT_NO4PERC = 5.0\n",
    "MAX_WEIGHTS = 2.0\n",
    "\n",
    "def weighted_logloss(preds, dtrain):\n",
    "    global MULT_NO4PERC, MAX_WEIGHTS\n",
    "    eps = 1e-16\n",
    "    labels = dtrain.get_label()\n",
    "    preds = 1.0 / (1.0 + np.exp(-preds))\n",
    "    \n",
    "    # top 4%\n",
    "    labels_mat = np.transpose(np.array([np.arange(len(labels)), labels, preds]))\n",
    "    pos_ord = labels_mat[:, 2].argsort()[::-1]\n",
    "    labels_mat = labels_mat[pos_ord]\n",
    "    weights_4perc    = np.where(labels_mat[:,1]==0, 20, 1)\n",
    "    top4   = np.cumsum(weights_4perc) <= int(0.04 * np.sum(weights_4perc))\n",
    "    top4   = top4[labels_mat[:, 0].argsort()]\n",
    "\n",
    "    weights = 1+np.exp(-MULT_NO4PERC*np.linspace(MAX_WEIGHTS-1,0,len(top4)))[labels_mat[:, 0].argsort()]\n",
    "    weights[top4 & (labels==1.0)] = 1.0 # Set to one weights of positive labels in top 4%\n",
    "    weights[(labels==0.0)] = 1.0 # Set to one weights of negative labels\n",
    "\n",
    "    grad = (preds - labels) * weights\n",
    "    hess = np.maximum(preds * (1.0 - preds) * weights , eps)\n",
    "    return grad, hess\n",
    "\n",
    "def amex_metric(y_true, y_pred):\n",
    "    labels = np.transpose(np.array([y_true, y_pred]))\n",
    "    labels = labels[labels[:, 1].argsort()[::-1]]\n",
    "    weights = np.where(labels[:,0]==0, 20, 1)\n",
    "    cut_vals = labels[np.cumsum(weights) <= int(0.04 * np.sum(weights))]\n",
    "    top_four = np.sum(cut_vals[:,0]) / np.sum(labels[:,0])\n",
    "    gini = [0,0]\n",
    "    for i in [1,0]:\n",
    "        labels = np.transpose(np.array([y_true, y_pred]))\n",
    "        labels = labels[labels[:, i].argsort()[::-1]]\n",
    "        weight = np.where(labels[:,0]==0, 20, 1)\n",
    "        weight_random = np.cumsum(weight / np.sum(weight))\n",
    "        total_pos = np.sum(labels[:, 0] *  weight)\n",
    "        cum_pos_found = np.cumsum(labels[:, 0] * weight)\n",
    "        lorentz = cum_pos_found / total_pos\n",
    "        gini[i] = np.sum((lorentz - weight_random) * weight)\n",
    "    return 0.5 * (gini[1]/gini[0] + top_four)\n",
    "\n",
    "def lgb_amex_metric(y_pred, y_true):\n",
    "    y_true = y_true.get_label()\n",
    "    return 'amex_metric', amex_metric(y_true, y_pred), True\n"
   ]
  },
  {
   "cell_type": "markdown",
   "id": "4f50db28-b9af-44b2-a0e6-0a911660dbce",
   "metadata": {},
   "source": [
    "Test simple LightGBM classifier with goss boosting:"
   ]
  },
  {
   "cell_type": "code",
   "execution_count": 7,
   "id": "e1c7f5be-60e7-4f43-ba82-75f802424423",
   "metadata": {},
   "outputs": [],
   "source": [
    "model = LGBMClassifier(boosting_type='goss', max_depth=5, random_state=0)\n",
    "model = model.fit(X_train, y_train)"
   ]
  },
  {
   "cell_type": "code",
   "execution_count": 8,
   "id": "b4d05087-6bea-484a-9bb7-0b270d441285",
   "metadata": {},
   "outputs": [
    {
     "name": "stdout",
     "output_type": "stream",
     "text": [
      "Testing accuracy: 0.8917555538607367\n",
      "AUC: 0.8590256537064745\n"
     ]
    }
   ],
   "source": [
    "y_pred = model.predict(X_test)\n",
    "print('Testing accuracy:', accuracy_score(y_pred, y_test))\n",
    "print('AUC:', roc_auc_score(y_pred, y_test))"
   ]
  },
  {
   "cell_type": "markdown",
   "id": "3f3f9d0e-7f00-4ab8-9c17-260c38daffbe",
   "metadata": {},
   "source": [
    "Use larger LightGBM model:"
   ]
  },
  {
   "cell_type": "code",
   "execution_count": 56,
   "id": "924f6ae3-70ab-4efe-b787-a8e9aad87e8e",
   "metadata": {},
   "outputs": [],
   "source": [
    "params = {'boosting_type': 'gbdt',\n",
    "          'n_estimators': 5000,\n",
    "          'num_leaves': 50,\n",
    "          'learning_rate': 0.05,\n",
    "          'colsample_bytree': 0.9,\n",
    "          'min_child_samples': 2000,\n",
    "          'max_bins': 500,\n",
    "          'reg_alpha': 2,\n",
    "          'objective': 'binary',\n",
    "          'random_state': 0\n",
    "}\n",
    "lgbm = LGBMClassifier(**params).fit(X_train, y_train,                            \n",
    "    callbacks=[log_evaluation(500)],\n",
    "    eval_metric=['auc','binary_logloss']\n",
    ")"
   ]
  },
  {
   "cell_type": "code",
   "execution_count": 57,
   "id": "bec6a03c-777c-4a11-bcab-8ab53aea6aa7",
   "metadata": {},
   "outputs": [
    {
     "name": "stdout",
     "output_type": "stream",
     "text": [
      "Testing accuracy: 0.8967782704858198\n",
      "AUC: 0.8666642096455957\n"
     ]
    }
   ],
   "source": [
    "y_pred = lgbm.predict(X_test)\n",
    "print('Testing accuracy:', accuracy_score(y_pred, y_test))\n",
    "print('AUC:', roc_auc_score(y_pred, y_test))"
   ]
  },
  {
   "cell_type": "markdown",
   "id": "3fffc42c-d2a9-4876-b09f-627f73cd3b69",
   "metadata": {},
   "source": [
    "Using AMEX metric as evaluation function  with custom loss:"
   ]
  },
  {
   "cell_type": "code",
   "execution_count": 41,
   "id": "e0835350-9b24-4805-883a-326a6976e2c2",
   "metadata": {},
   "outputs": [
    {
     "name": "stdout",
     "output_type": "stream",
     "text": [
      "[500]\ttraining's amex_metric: 0.781532\n",
      "[1000]\ttraining's amex_metric: 0.815322\n",
      "[1500]\ttraining's amex_metric: 0.842245\n",
      "[2000]\ttraining's amex_metric: 0.867017\n",
      "[2500]\ttraining's amex_metric: 0.889338\n",
      "[3000]\ttraining's amex_metric: 0.909366\n"
     ]
    }
   ],
   "source": [
    "params = {\n",
    "    'objective': 'binary',\n",
    "    'boosting': 'dart',\n",
    "    'seed': 42,\n",
    "    'num_leaves': 100,\n",
    "    'learning_rate': 0.01,\n",
    "    'feature_fraction': 0.20,\n",
    "    'bagging_freq': 10,\n",
    "    'bagging_fraction': 0.50,\n",
    "    'n_jobs': -1,\n",
    "    'lambda_l2': 2,\n",
    "    'min_data_in_leaf': 40,\n",
    "    'verbose': -1,\n",
    "    }\n",
    "lgb_train = lgb.Dataset(X_train, y_train.values)\n",
    "custom_lgb = lgb.train(\n",
    "    params = params,\n",
    "    train_set = lgb_train,\n",
    "    num_boost_round = 3000,\n",
    "    valid_sets = [lgb_train],\n",
    "    feval = lgb_amex_metric,\n",
    "    fobj = weighted_logloss,\n",
    "    callbacks=[log_evaluation(500)]\n",
    ")"
   ]
  },
  {
   "cell_type": "code",
   "execution_count": 45,
   "id": "b3ffdb39-ae20-493d-b4f3-dc569083a28b",
   "metadata": {},
   "outputs": [
    {
     "name": "stdout",
     "output_type": "stream",
     "text": [
      "AMEX score: 0.7729905505508963\n",
      "Testing accuracy: 0.7538868853709293\n",
      "AUC: 0.7538842589543411\n"
     ]
    }
   ],
   "source": [
    "preds = custom_lgb.predict(X_test)\n",
    "score = amex_metric(y_test, preds)\n",
    "print('AMEX score:', score)\n",
    "y_pred = np.argsort(np.argsort(preds))/len(preds) \n",
    "y_pred = (y_pred > 0.5).astype(int)\n",
    "print('Testing accuracy:', accuracy_score(y_pred, y_test))\n",
    "print('AUC:', roc_auc_score(y_pred, y_test))"
   ]
  },
  {
   "cell_type": "markdown",
   "id": "64594c57-51c3-41a1-819b-565449372ca5",
   "metadata": {},
   "source": [
    "Load test data and create file for submission"
   ]
  },
  {
   "cell_type": "code",
   "execution_count": 47,
   "id": "3f973a73-dd89-45c7-9b0f-1daa10c27db4",
   "metadata": {},
   "outputs": [
    {
     "data": {
      "text/plain": [
       "(924621, 619)"
      ]
     },
     "execution_count": 47,
     "metadata": {},
     "output_type": "execute_result"
    }
   ],
   "source": [
    "df_test = pd.read_parquet('features-dask-test.parquet')\n",
    "df_test = df_test[X_train.columns]\n",
    "df_test.shape"
   ]
  },
  {
   "cell_type": "code",
   "execution_count": 58,
   "id": "cc9c26ab-7b7e-4674-a3a5-94b46268ffc6",
   "metadata": {},
   "outputs": [],
   "source": [
    "y_pred = lgbm.predict_proba(df_test)[:, 1]\n",
    "# y_pred = custom_lgb.predict(df_test)"
   ]
  },
  {
   "cell_type": "code",
   "execution_count": 59,
   "id": "fa1b1141-4782-4c3b-a5c8-72603d0a8cc4",
   "metadata": {},
   "outputs": [],
   "source": [
    "submission = pd.DataFrame(data={\n",
    "    'customer_ID': df_test.reset_index()['customer_ID'], \n",
    "    'prediction': y_pred\n",
    "})\n",
    "submission.to_csv('submission.csv', index=None)"
   ]
  }
 ],
 "metadata": {
  "kernelspec": {
   "display_name": "Python 3 (ipykernel)",
   "language": "python",
   "name": "python3"
  },
  "language_info": {
   "codemirror_mode": {
    "name": "ipython",
    "version": 3
   },
   "file_extension": ".py",
   "mimetype": "text/x-python",
   "name": "python",
   "nbconvert_exporter": "python",
   "pygments_lexer": "ipython3",
   "version": "3.10.6"
  }
 },
 "nbformat": 4,
 "nbformat_minor": 5
}
