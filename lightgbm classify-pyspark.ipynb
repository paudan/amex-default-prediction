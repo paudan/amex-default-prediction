{
 "cells": [
  {
   "cell_type": "code",
   "execution_count": 1,
   "id": "b797bd52-691e-4b2f-a24c-2a7cd0bcfe6e",
   "metadata": {},
   "outputs": [],
   "source": [
    "import pandas as pd\n",
    "from sklearn.model_selection import train_test_split\n",
    "from sklearn.metrics import accuracy_score, roc_auc_score\n",
    "import lightgbm as lgb\n",
    "from lightgbm import LGBMClassifier, log_evaluation"
   ]
  },
  {
   "cell_type": "code",
   "execution_count": 2,
   "id": "5cdbf14c-246f-491d-919a-62996f29ff29",
   "metadata": {},
   "outputs": [
    {
     "data": {
      "text/plain": [
       "(458913, 1304)"
      ]
     },
     "execution_count": 2,
     "metadata": {},
     "output_type": "execute_result"
    }
   ],
   "source": [
    "df = pd.read_parquet('features-spark.parquet')\n",
    "df.shape"
   ]
  },
  {
   "cell_type": "code",
   "execution_count": 3,
   "id": "35237d23-42bb-43a6-9b57-8602b10572a2",
   "metadata": {},
   "outputs": [
    {
     "data": {
      "text/plain": [
       "(458913, 1086)"
      ]
     },
     "execution_count": 3,
     "metadata": {},
     "output_type": "execute_result"
    }
   ],
   "source": [
    "df = df.dropna(axis=1, thresh=int(0.80 * df.shape[0]))\n",
    "df.shape"
   ]
  },
  {
   "cell_type": "code",
   "execution_count": 4,
   "id": "44dd90a4-a087-4c6e-99e9-616fb2a9c254",
   "metadata": {},
   "outputs": [
    {
     "name": "stdout",
     "output_type": "stream",
     "text": [
      "X_train Training Data Size : 367130\n",
      "X_test Testing Data Size   : 91783\n"
     ]
    }
   ],
   "source": [
    "y = df['target']\n",
    "X = df.drop(['target', 'customer_ID'],axis=1)\n",
    "X_train, X_test, y_train, y_test = train_test_split(X, y, test_size=0.2, random_state=42,stratify=y)\n",
    "\n",
    "print(\"X_train Training Data Size :\",X_train.shape[0])\n",
    "print(\"X_test Testing Data Size   :\",X_test.shape[0])"
   ]
  },
  {
   "cell_type": "code",
   "execution_count": 5,
   "id": "e1c7f5be-60e7-4f43-ba82-75f802424423",
   "metadata": {},
   "outputs": [],
   "source": [
    "model = lgb.LGBMClassifier(boosting_type='goss', max_depth=5, random_state=0)\n",
    "model = model.fit(X_train, y_train)"
   ]
  },
  {
   "cell_type": "code",
   "execution_count": 6,
   "id": "b4d05087-6bea-484a-9bb7-0b270d441285",
   "metadata": {},
   "outputs": [
    {
     "name": "stdout",
     "output_type": "stream",
     "text": [
      "Testing accuracy: 0.8925509081202402\n",
      "AUC: 0.8606382082694362\n"
     ]
    }
   ],
   "source": [
    "y_pred = model.predict(X_test)\n",
    "print('Testing accuracy:', accuracy_score(y_pred, y_test))\n",
    "print('AUC:', roc_auc_score(y_pred, y_test))"
   ]
  },
  {
   "cell_type": "code",
   "execution_count": 7,
   "id": "bada4cb1-0aca-415f-b48d-a2a79e7b18ad",
   "metadata": {},
   "outputs": [],
   "source": [
    "params = {'boosting_type': 'gbdt',\n",
    "          'n_estimators': 5000,\n",
    "          'num_leaves': 50,\n",
    "          'learning_rate': 0.05,\n",
    "          'colsample_bytree': 0.9,\n",
    "          'min_child_samples': 2000,\n",
    "          'max_bins': 500,\n",
    "          'reg_alpha': 2,\n",
    "          'objective': 'binary',\n",
    "          'random_state': 0\n",
    "}\n",
    "lgbm = LGBMClassifier(**params).fit(X_train, y_train,                            \n",
    "    callbacks=[log_evaluation(500)],\n",
    "    eval_metric=['auc','binary_logloss']\n",
    ")"
   ]
  },
  {
   "cell_type": "code",
   "execution_count": 8,
   "id": "f32ab8b4-deb1-401d-bb7b-edb619a6b486",
   "metadata": {},
   "outputs": [
    {
     "name": "stdout",
     "output_type": "stream",
     "text": [
      "Testing accuracy: 0.8968654325964504\n",
      "AUC: 0.867031392339262\n"
     ]
    }
   ],
   "source": [
    "y_pred = lgbm.predict(X_test)\n",
    "print('Testing accuracy:', accuracy_score(y_pred, y_test))\n",
    "print('AUC:', roc_auc_score(y_pred, y_test))"
   ]
  },
  {
   "cell_type": "markdown",
   "id": "64594c57-51c3-41a1-819b-565449372ca5",
   "metadata": {},
   "source": [
    "Load test data and create file for submission"
   ]
  },
  {
   "cell_type": "code",
   "execution_count": 20,
   "id": "3f973a73-dd89-45c7-9b0f-1daa10c27db4",
   "metadata": {},
   "outputs": [
    {
     "data": {
      "text/plain": [
       "(924621, 1084)"
      ]
     },
     "execution_count": 20,
     "metadata": {},
     "output_type": "execute_result"
    }
   ],
   "source": [
    "df_test = pd.read_parquet('features-spark-test.parquet')\n",
    "customer_ID = df_test['customer_ID']\n",
    "df_test = df_test[X_train.columns]\n",
    "df_test.shape"
   ]
  },
  {
   "cell_type": "code",
   "execution_count": 21,
   "id": "21c7581c-e7d1-4698-85d7-bb53ab10eba0",
   "metadata": {},
   "outputs": [],
   "source": [
    "y_pred = lgbm.predict_proba(df_test)[:, 1]"
   ]
  },
  {
   "cell_type": "code",
   "execution_count": 22,
   "id": "fa1b1141-4782-4c3b-a5c8-72603d0a8cc4",
   "metadata": {},
   "outputs": [],
   "source": [
    "submission = pd.DataFrame(data={'customer_ID': customer_ID, 'prediction': y_pred })\n",
    "submission.to_csv('submission.csv', index=None)"
   ]
  }
 ],
 "metadata": {
  "kernelspec": {
   "display_name": "Python 3 (ipykernel)",
   "language": "python",
   "name": "python3"
  },
  "language_info": {
   "codemirror_mode": {
    "name": "ipython",
    "version": 3
   },
   "file_extension": ".py",
   "mimetype": "text/x-python",
   "name": "python",
   "nbconvert_exporter": "python",
   "pygments_lexer": "ipython3",
   "version": "3.10.6"
  }
 },
 "nbformat": 4,
 "nbformat_minor": 5
}
